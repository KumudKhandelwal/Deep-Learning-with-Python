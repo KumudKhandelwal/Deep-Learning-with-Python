{
  "nbformat": 4,
  "nbformat_minor": 0,
  "metadata": {
    "kernelspec": {
      "name": "python3",
      "display_name": "Python 3"
    },
    "language_info": {
      "codemirror_mode": {
        "name": "ipython",
        "version": 3
      },
      "file_extension": ".py",
      "mimetype": "text/x-python",
      "name": "python",
      "nbconvert_exporter": "python",
      "pygments_lexer": "ipython3",
      "version": "3.7.3"
    },
    "colab": {
      "name": "DSTI_DL_Lab1_October2020.ipynb",
      "provenance": [],
      "collapsed_sections": [],
      "toc_visible": true
    }
  },
  "cells": [
    {
      "cell_type": "markdown",
      "metadata": {
        "id": "mYjIe2Y5gC9e"
      },
      "source": [
        "# Torch basics"
      ]
    },
    {
      "cell_type": "code",
      "metadata": {
        "id": "Hh6cps5cgC9g"
      },
      "source": [
        "import matplotlib.pyplot as plt\n",
        "%matplotlib inline\n",
        "import torch\n",
        "import numpy as np"
      ],
      "execution_count": 1,
      "outputs": []
    },
    {
      "cell_type": "code",
      "metadata": {
        "id": "Pe1KgPFqgC9m",
        "colab": {
          "base_uri": "https://localhost:8080/",
          "height": 36
        },
        "outputId": "82f706e1-705f-4bb7-8f40-f75afa5f95af"
      },
      "source": [
        "torch.__version__"
      ],
      "execution_count": 2,
      "outputs": [
        {
          "output_type": "execute_result",
          "data": {
            "application/vnd.google.colaboratory.intrinsic+json": {
              "type": "string"
            },
            "text/plain": [
              "'1.7.0+cu101'"
            ]
          },
          "metadata": {
            "tags": []
          },
          "execution_count": 2
        }
      ]
    },
    {
      "cell_type": "markdown",
      "metadata": {
        "id": "lMn2UjdXgC9r"
      },
      "source": [
        "Largely inspired from the tutorial [What is PyTorch?](https://pytorch.org/tutorials/beginner/former_torchies/tensor_tutorial.html)\n",
        "\n",
        "Tensors are used to encode the signal to process, but also the internal states and parameters of models.\n",
        "\n",
        "Manipulating data through this constrained structure allows to use CPUs and GPUs at peak performance.\n",
        "\n"
      ]
    },
    {
      "cell_type": "markdown",
      "metadata": {
        "id": "loUAlh7dyVpN"
      },
      "source": [
        "## Tensors"
      ]
    },
    {
      "cell_type": "markdown",
      "metadata": {
        "id": "hlUFi857xt6Q"
      },
      "source": [
        "Construct a 3x5 matrix, uninitialized:"
      ]
    },
    {
      "cell_type": "code",
      "metadata": {
        "id": "2kLcNt8IgC9r"
      },
      "source": [
        "# Sets the default floating point dtype. \n",
        "# This type will be used as default floating point type for type inference in torch.tensor().\n",
        "torch.set_default_tensor_type('torch.FloatTensor') "
      ],
      "execution_count": 7,
      "outputs": []
    },
    {
      "cell_type": "code",
      "metadata": {
        "id": "RjUhHCJMgC9u",
        "colab": {
          "base_uri": "https://localhost:8080/"
        },
        "outputId": "17eeee54-9c12-4100-a2f3-545557a27437"
      },
      "source": [
        "x = torch.empty(3,5)\n",
        "print(x.type())\n",
        "print(x)"
      ],
      "execution_count": 8,
      "outputs": [
        {
          "output_type": "stream",
          "text": [
            "torch.FloatTensor\n",
            "tensor([[4.5366e-35, 0.0000e+00, 5.0447e-44, 0.0000e+00,        nan],\n",
            "        [0.0000e+00, 1.3788e-14, 1.8369e+28, 1.9433e-19, 3.3738e-12],\n",
            "        [7.4086e+28, 6.9397e+22, 1.7260e+25, 2.2856e+20, 5.0948e-14]])\n"
          ],
          "name": "stdout"
        }
      ]
    },
    {
      "cell_type": "code",
      "metadata": {
        "id": "MnRsrLh5gC9w",
        "colab": {
          "base_uri": "https://localhost:8080/"
        },
        "outputId": "fa607769-797a-49f6-fd00-29fd317d246f"
      },
      "source": [
        "x = torch.randn(3,5)\n",
        "print(x)\n",
        "print(x.type())"
      ],
      "execution_count": 20,
      "outputs": [
        {
          "output_type": "stream",
          "text": [
            "tensor([[ 1.8340,  0.2133, -0.0068,  0.0730,  0.4875],\n",
            "        [ 1.1611, -1.1623,  0.8236, -0.0311, -0.3190],\n",
            "        [-0.4851,  1.2045, -0.7778, -1.1359,  0.0993]])\n",
            "torch.FloatTensor\n"
          ],
          "name": "stdout"
        }
      ]
    },
    {
      "cell_type": "code",
      "metadata": {
        "id": "lfgpO7kUgC9z",
        "colab": {
          "base_uri": "https://localhost:8080/"
        },
        "outputId": "74c13327-cf9d-4bde-e2c7-d6da1b706e0e"
      },
      "source": [
        "print(x.size())"
      ],
      "execution_count": 10,
      "outputs": [
        {
          "output_type": "stream",
          "text": [
            "torch.Size([3, 5])\n"
          ],
          "name": "stdout"
        }
      ]
    },
    {
      "cell_type": "markdown",
      "metadata": {
        "id": "NNLzvVKigC92"
      },
      "source": [
        "torch.Size is in fact a [tuple](https://docs.python.org/3/tutorial/datastructures.html#tuples-and-sequences), so it supports the same operations."
      ]
    },
    {
      "cell_type": "code",
      "metadata": {
        "id": "W-o3sFH3gC92",
        "colab": {
          "base_uri": "https://localhost:8080/"
        },
        "outputId": "f8d223e9-6fc8-47e3-fc11-4df07c606ada"
      },
      "source": [
        "x.size()[1]"
      ],
      "execution_count": 12,
      "outputs": [
        {
          "output_type": "execute_result",
          "data": {
            "text/plain": [
              "5"
            ]
          },
          "metadata": {
            "tags": []
          },
          "execution_count": 12
        }
      ]
    },
    {
      "cell_type": "code",
      "metadata": {
        "id": "LkQAasgtgC95",
        "colab": {
          "base_uri": "https://localhost:8080/"
        },
        "outputId": "bde3b179-ee50-47f5-a0f1-6758f2553ae0"
      },
      "source": [
        "x.size() == (3,5)"
      ],
      "execution_count": 13,
      "outputs": [
        {
          "output_type": "execute_result",
          "data": {
            "text/plain": [
              "True"
            ]
          },
          "metadata": {
            "tags": []
          },
          "execution_count": 13
        }
      ]
    },
    {
      "cell_type": "markdown",
      "metadata": {
        "id": "GDufwT0Kstxv"
      },
      "source": [
        "Importance of the brackets when defining a tensor"
      ]
    },
    {
      "cell_type": "code",
      "metadata": {
        "id": "wa9IPaaqsaPg",
        "colab": {
          "base_uri": "https://localhost:8080/"
        },
        "outputId": "870447b7-f6bd-462f-b41a-174853d5a6eb"
      },
      "source": [
        "a = torch.tensor([2.0])\n",
        "print(type(a))\n",
        "print(a.dtype)\n",
        "print(a.size())\n",
        "\n",
        "b = torch.tensor(2.0)\n",
        "print(type(b))\n",
        "print(b.dtype)\n",
        "print(b.size())"
      ],
      "execution_count": 14,
      "outputs": [
        {
          "output_type": "stream",
          "text": [
            "<class 'torch.Tensor'>\n",
            "torch.float32\n",
            "torch.Size([1])\n",
            "<class 'torch.Tensor'>\n",
            "torch.float32\n",
            "torch.Size([])\n"
          ],
          "name": "stdout"
        }
      ]
    },
    {
      "cell_type": "code",
      "metadata": {
        "colab": {
          "base_uri": "https://localhost:8080/"
        },
        "id": "hyBWcyAYmIzX",
        "outputId": "8da57552-ec87-49e8-a238-8e146ac69018"
      },
      "source": [
        "print(a)\n",
        "print(b)\n",
        "print(a == b)"
      ],
      "execution_count": 18,
      "outputs": [
        {
          "output_type": "stream",
          "text": [
            "tensor([2.])\n",
            "tensor(2.)\n",
            "tensor([True])\n"
          ],
          "name": "stdout"
        }
      ]
    },
    {
      "cell_type": "markdown",
      "metadata": {
        "id": "XeAg1TcMhyf4"
      },
      "source": [
        "Select some columns"
      ]
    },
    {
      "cell_type": "code",
      "metadata": {
        "id": "DZaC-fXlgY6G",
        "colab": {
          "base_uri": "https://localhost:8080/"
        },
        "outputId": "ffd7cdda-4c17-4c54-b3d5-e2c3d8703160"
      },
      "source": [
        "cols = torch.zeros(5, dtype=torch.bool)\n",
        "print(cols)\n",
        "cols[1] = True\n",
        "cols[4] = True\n",
        "print(cols)\n",
        "# wherever the columns are set true, fetch the data\n",
        "c = x[:, cols]  # selects all rows for 2nd column and 5th column from tensor x\n",
        "print(c)"
      ],
      "execution_count": 19,
      "outputs": [
        {
          "output_type": "stream",
          "text": [
            "tensor([False, False, False, False, False])\n",
            "tensor([False,  True, False, False,  True])\n",
            "tensor([[ 0.1954,  0.4157],\n",
            "        [-0.8918, -0.1663],\n",
            "        [-0.7604,  1.5238]])\n"
          ],
          "name": "stdout"
        }
      ]
    },
    {
      "cell_type": "markdown",
      "metadata": {
        "id": "t9v3syrRf-13"
      },
      "source": [
        "All operations on the tensor that operate in-place on it will have an _ postfix. "
      ]
    },
    {
      "cell_type": "code",
      "metadata": {
        "id": "zr3PP5oVf1SV",
        "colab": {
          "base_uri": "https://localhost:8080/",
          "height": 68
        },
        "outputId": "9559faa3-04a0-4c01-c115-03508342461b"
      },
      "source": [
        "# x will be filled with the value 3.5\n",
        "x.fill_(3.5)\n",
        "print(x)"
      ],
      "execution_count": null,
      "outputs": [
        {
          "output_type": "stream",
          "text": [
            "tensor([[3.5000, 3.5000, 3.5000, 3.5000, 3.5000],\n",
            "        [3.5000, 3.5000, 3.5000, 3.5000, 3.5000],\n",
            "        [3.5000, 3.5000, 3.5000, 3.5000, 3.5000]])\n"
          ],
          "name": "stdout"
        }
      ]
    },
    {
      "cell_type": "markdown",
      "metadata": {
        "id": "SXPtlUXsgC96"
      },
      "source": [
        "## Bridge to numpy"
      ]
    },
    {
      "cell_type": "code",
      "metadata": {
        "id": "61srdUzCgC97",
        "colab": {
          "base_uri": "https://localhost:8080/",
          "height": 68
        },
        "outputId": "fe219b4d-eafd-44c0-a7bc-26a8cbedc9aa"
      },
      "source": [
        "y = x.numpy()\n",
        "print(y)"
      ],
      "execution_count": null,
      "outputs": [
        {
          "output_type": "stream",
          "text": [
            "[[3.5 3.5 3.5 3.5 3.5]\n",
            " [3.5 3.5 3.5 3.5 3.5]\n",
            " [3.5 3.5 3.5 3.5 3.5]]\n"
          ],
          "name": "stdout"
        }
      ]
    },
    {
      "cell_type": "code",
      "metadata": {
        "id": "tFv5BzYsgC99",
        "colab": {
          "base_uri": "https://localhost:8080/",
          "height": 34
        },
        "outputId": "10a0552d-5566-4458-c875-163b049fb2e7"
      },
      "source": [
        "a = np.ones(5)\n",
        "b = torch.from_numpy(a)\n",
        "print(b)\n",
        " "
      ],
      "execution_count": null,
      "outputs": [
        {
          "output_type": "stream",
          "text": [
            "tensor([1., 1., 1., 1., 1.], dtype=torch.float64)\n"
          ],
          "name": "stdout"
        }
      ]
    },
    {
      "cell_type": "code",
      "metadata": {
        "id": "lfpk2tfpgC9-",
        "colab": {
          "base_uri": "https://localhost:8080/"
        },
        "outputId": "78cc64d5-e55a-4c5a-885e-1c4dc5178e5c"
      },
      "source": [
        "xr = torch.randn(3, 5)\n",
        "a = np.ones(5).astype(int)\n",
        "b = torch.from_numpy(a)\n",
        "print(xr, xr.type())\n",
        "print(b)"
      ],
      "execution_count": 22,
      "outputs": [
        {
          "output_type": "stream",
          "text": [
            "tensor([[ 1.0191,  0.0408, -0.0733, -0.1055, -0.3897],\n",
            "        [ 0.6079,  0.1166, -2.6744, -0.5484, -0.6877],\n",
            "        [-0.7863,  0.0214, -0.0947,  0.2680,  1.2674]]) torch.FloatTensor\n",
            "tensor([1, 1, 1, 1, 1])\n"
          ],
          "name": "stdout"
        }
      ]
    },
    {
      "cell_type": "markdown",
      "metadata": {
        "id": "C6sKTTlZ0RmP"
      },
      "source": [
        "### Question: print the type of the content (data) of variables a, b and xr"
      ]
    },
    {
      "cell_type": "code",
      "metadata": {
        "id": "k07dBWLRxARt",
        "colab": {
          "base_uri": "https://localhost:8080/",
          "height": 68
        },
        "outputId": "a4231b8a-945e-401f-a597-9c18550e084f"
      },
      "source": [
        "print(a.dtype) # Array or tensor data type\n",
        "print(b.dtype)\n",
        "print(xr.dtype)"
      ],
      "execution_count": null,
      "outputs": [
        {
          "output_type": "stream",
          "text": [
            "int64\n",
            "torch.int64\n",
            "torch.float32\n"
          ],
          "name": "stdout"
        }
      ]
    },
    {
      "cell_type": "markdown",
      "metadata": {
        "id": "7fwWdAYjUuiN"
      },
      "source": [
        "## Operations\n",
        "\n",
        "There are multiple syntaxes for operations. In the following\n",
        "example, we will take a look at the addition operation.\n",
        "\n",
        "Addition: syntax 1"
      ]
    },
    {
      "cell_type": "code",
      "metadata": {
        "id": "4iASmmTAUxG0",
        "colab": {
          "base_uri": "https://localhost:8080/",
          "height": 102
        },
        "outputId": "371bc466-498f-47bf-b0b3-fd93b610df1b"
      },
      "source": [
        "x = torch.rand(5, 3) \n",
        "y = torch.rand(5, 3)\n",
        "print(x + y)"
      ],
      "execution_count": null,
      "outputs": [
        {
          "output_type": "stream",
          "text": [
            "tensor([[0.8373, 1.7376, 0.0560],\n",
            "        [0.7258, 1.2288, 0.8572],\n",
            "        [0.8948, 0.6123, 1.2386],\n",
            "        [1.0024, 1.5742, 1.2398],\n",
            "        [0.5597, 1.0679, 0.7243]])\n"
          ],
          "name": "stdout"
        }
      ]
    },
    {
      "cell_type": "markdown",
      "metadata": {
        "id": "H5NxjdPhVQP8"
      },
      "source": [
        "Addition: syntax 2"
      ]
    },
    {
      "cell_type": "code",
      "metadata": {
        "id": "GwCo8DOcVRHq",
        "colab": {
          "base_uri": "https://localhost:8080/",
          "height": 102
        },
        "outputId": "e515232a-cc2f-47b0-de21-76dc9a8d125d"
      },
      "source": [
        "print(torch.add(x, y))"
      ],
      "execution_count": null,
      "outputs": [
        {
          "output_type": "stream",
          "text": [
            "tensor([[0.8373, 1.7376, 0.0560],\n",
            "        [0.7258, 1.2288, 0.8572],\n",
            "        [0.8948, 0.6123, 1.2386],\n",
            "        [1.0024, 1.5742, 1.2398],\n",
            "        [0.5597, 1.0679, 0.7243]])\n"
          ],
          "name": "stdout"
        }
      ]
    },
    {
      "cell_type": "markdown",
      "metadata": {
        "id": "wNuL3H61VZvS"
      },
      "source": [
        "Addition: providing an output tensor as argument"
      ]
    },
    {
      "cell_type": "code",
      "metadata": {
        "id": "hX1ffSunVail",
        "colab": {
          "base_uri": "https://localhost:8080/",
          "height": 102
        },
        "outputId": "afe05785-d3cc-4cb1-f53e-5b5912921257"
      },
      "source": [
        "result = torch.empty(5, 3)\n",
        "torch.add(x, y, out=result)\n",
        "print(result)"
      ],
      "execution_count": null,
      "outputs": [
        {
          "output_type": "stream",
          "text": [
            "tensor([[0.8373, 1.7376, 0.0560],\n",
            "        [0.7258, 1.2288, 0.8572],\n",
            "        [0.8948, 0.6123, 1.2386],\n",
            "        [1.0024, 1.5742, 1.2398],\n",
            "        [0.5597, 1.0679, 0.7243]])\n"
          ],
          "name": "stdout"
        }
      ]
    },
    {
      "cell_type": "markdown",
      "metadata": {
        "id": "-VK0_f0rVejB"
      },
      "source": [
        "Addition: in-place"
      ]
    },
    {
      "cell_type": "code",
      "metadata": {
        "id": "rj0GKMgSVlGV",
        "colab": {
          "base_uri": "https://localhost:8080/",
          "height": 102
        },
        "outputId": "45f91313-248b-4949-bfdb-dfbbf7740556"
      },
      "source": [
        "# adds x to y\n",
        "y.add_(x)\n",
        "print(y)"
      ],
      "execution_count": null,
      "outputs": [
        {
          "output_type": "stream",
          "text": [
            "tensor([[0.8373, 1.7376, 0.0560],\n",
            "        [0.7258, 1.2288, 0.8572],\n",
            "        [0.8948, 0.6123, 1.2386],\n",
            "        [1.0024, 1.5742, 1.2398],\n",
            "        [0.5597, 1.0679, 0.7243]])\n"
          ],
          "name": "stdout"
        }
      ]
    },
    {
      "cell_type": "markdown",
      "metadata": {
        "id": "EgNBadgeVscS"
      },
      "source": [
        "**Note:** Any operation that mutates a tensor in-place is post-fixed with an ``_``.\n",
        "    For example: ``x.copy_(y)``, ``x.t_()``, will change ``x``.\n",
        "\n"
      ]
    },
    {
      "cell_type": "markdown",
      "metadata": {
        "id": "kOPtMoOkgC-G"
      },
      "source": [
        "Any operation that mutates a tensor in-place is post-fixed with an ```_```\n",
        "\n",
        "For example: ```x.copy_(y)```, ```x.t_()```, will change ```x```."
      ]
    },
    {
      "cell_type": "code",
      "metadata": {
        "id": "hrOV0mQIgC-G",
        "colab": {
          "base_uri": "https://localhost:8080/",
          "height": 68
        },
        "outputId": "fa3a5467-2a90-4893-80b1-b9e6563d360e"
      },
      "source": [
        "print(x.t())"
      ],
      "execution_count": null,
      "outputs": [
        {
          "output_type": "stream",
          "text": [
            "tensor([[0.7891, 0.4491, 0.2989, 0.9625, 0.5501],\n",
            "        [0.7869, 0.6829, 0.5258, 0.6450, 0.9251],\n",
            "        [0.0078, 0.2798, 0.6276, 0.9534, 0.5049]])\n"
          ],
          "name": "stdout"
        }
      ]
    },
    {
      "cell_type": "code",
      "metadata": {
        "id": "LfNnD4vSgC-H",
        "colab": {
          "base_uri": "https://localhost:8080/",
          "height": 102
        },
        "outputId": "0f852e2e-09f0-4834-f867-5e158bbbb90a"
      },
      "source": [
        "print(x)"
      ],
      "execution_count": null,
      "outputs": [
        {
          "output_type": "stream",
          "text": [
            "tensor([[0.7891, 0.7869, 0.0078],\n",
            "        [0.4491, 0.6829, 0.2798],\n",
            "        [0.2989, 0.5258, 0.6276],\n",
            "        [0.9625, 0.6450, 0.9534],\n",
            "        [0.5501, 0.9251, 0.5049]])\n"
          ],
          "name": "stdout"
        }
      ]
    },
    {
      "cell_type": "code",
      "metadata": {
        "id": "5YdHeI8lgC-I",
        "colab": {
          "base_uri": "https://localhost:8080/",
          "height": 68
        },
        "outputId": "4b92251a-73a6-49f0-c2bc-71da44fb574b"
      },
      "source": [
        "x.t_()\n",
        "print(x)"
      ],
      "execution_count": null,
      "outputs": [
        {
          "output_type": "stream",
          "text": [
            "tensor([[0.7891, 0.4491, 0.2989, 0.9625, 0.5501],\n",
            "        [0.7869, 0.6829, 0.5258, 0.6450, 0.9251],\n",
            "        [0.0078, 0.2798, 0.6276, 0.9534, 0.5049]])\n"
          ],
          "name": "stdout"
        }
      ]
    },
    {
      "cell_type": "markdown",
      "metadata": {
        "id": "UfxHIL-mWyZl"
      },
      "source": [
        "You can use standard NumPy-like indexing with all bells and whistles!"
      ]
    },
    {
      "cell_type": "code",
      "metadata": {
        "id": "Cz4M97B2Wtyu",
        "colab": {
          "base_uri": "https://localhost:8080/",
          "height": 34
        },
        "outputId": "7f3f4ccd-65e5-487e-8710-ef748793caac"
      },
      "source": [
        "print(x[:, 1])"
      ],
      "execution_count": null,
      "outputs": [
        {
          "output_type": "stream",
          "text": [
            "tensor([0.4491, 0.6829, 0.2798])\n"
          ],
          "name": "stdout"
        }
      ]
    },
    {
      "cell_type": "markdown",
      "metadata": {
        "id": "M6tsVH8zW8yB"
      },
      "source": [
        "Resizing (very useful): If you want to resize/reshape tensor, you can use ``torch.view``:"
      ]
    },
    {
      "cell_type": "code",
      "metadata": {
        "id": "k0qjaFPDW_3I",
        "colab": {
          "base_uri": "https://localhost:8080/",
          "height": 34
        },
        "outputId": "bba9706d-5ea1-410d-f9f4-aebb832427b8"
      },
      "source": [
        "x = torch.randn(4, 4)\n",
        "y = x.view(16)\n",
        "z = x.view(-1, 8)  # the size -1 is inferred from other dimensions\n",
        "print(x.size(), y.size(), z.size())"
      ],
      "execution_count": null,
      "outputs": [
        {
          "output_type": "stream",
          "text": [
            "torch.Size([4, 4]) torch.Size([16]) torch.Size([2, 8])\n"
          ],
          "name": "stdout"
        }
      ]
    },
    {
      "cell_type": "markdown",
      "metadata": {
        "id": "fP8sTTCgXRak"
      },
      "source": [
        "If you have a one element tensor, use ``.item()`` to get the value as a\n",
        "Python number"
      ]
    },
    {
      "cell_type": "code",
      "metadata": {
        "id": "zaG9x6SHXSPw",
        "colab": {
          "base_uri": "https://localhost:8080/"
        },
        "outputId": "95034fb9-4b95-4c25-e61a-19473a1e6fd8"
      },
      "source": [
        "x = torch.randn(1)\n",
        "print(x)\n",
        "print(x.item())\n",
        "print(type(x.item()))"
      ],
      "execution_count": 7,
      "outputs": [
        {
          "output_type": "stream",
          "text": [
            "tensor([-0.6043])\n",
            "-0.6043261885643005\n",
            "<class 'float'>\n"
          ],
          "name": "stdout"
        }
      ]
    },
    {
      "cell_type": "markdown",
      "metadata": {
        "id": "ZsJhDahxgoyi"
      },
      "source": [
        "If you have a one element tensor, use .tolist() to get the values as a Python list"
      ]
    },
    {
      "cell_type": "code",
      "metadata": {
        "colab": {
          "base_uri": "https://localhost:8080/"
        },
        "id": "CBlprXZSgJqZ",
        "outputId": "9f82d77f-0c02-4048-9a30-248cf0595da3"
      },
      "source": [
        "x = torch.randn(5)\n",
        "print(x)\n",
        "print(x.tolist())\n",
        "print(type(x.tolist()))"
      ],
      "execution_count": 6,
      "outputs": [
        {
          "output_type": "stream",
          "text": [
            "tensor([ 1.6027, -0.2817, -0.6928, -2.7431,  0.6850])\n",
            "[1.602696418762207, -0.28165119886398315, -0.6928385496139526, -2.7431039810180664, 0.6850181818008423]\n",
            "<class 'list'>\n"
          ],
          "name": "stdout"
        }
      ]
    },
    {
      "cell_type": "markdown",
      "metadata": {
        "id": "mqCvPrp-XmZQ"
      },
      "source": [
        "**Read later:**\n",
        "\n",
        "\n",
        "  100+ Tensor operations, including transposing, indexing, slicing,\n",
        "  mathematical operations, linear algebra, random numbers, etc.,\n",
        "  are described\n",
        "  [here](https://pytorch.org/docs/torch)."
      ]
    },
    {
      "cell_type": "markdown",
      "metadata": {
        "id": "8Jk-JGYpeCNz"
      },
      "source": [
        "## 3D Tensors"
      ]
    },
    {
      "cell_type": "markdown",
      "metadata": {
        "id": "RTGbU2E-eLWF"
      },
      "source": [
        "### Question: What is the size of the following tensor?"
      ]
    },
    {
      "cell_type": "code",
      "metadata": {
        "id": "d-Dg4nyOeD4f",
        "colab": {
          "base_uri": "https://localhost:8080/"
        },
        "outputId": "dc303646-62c2-4b81-983a-8989bd4f7917"
      },
      "source": [
        "y = torch.tensor([\n",
        "     [\n",
        "       [1, 2, 3],\n",
        "       [4, 5, 6]\n",
        "     ],\n",
        "     [\n",
        "       [1, 2, 3],\n",
        "       [4, 5, 6]\n",
        "     ],\n",
        "     [\n",
        "       [1, 2, 3],\n",
        "       [4, 5, 6]\n",
        "     ]\n",
        "   ])\n",
        "print(y)"
      ],
      "execution_count": 9,
      "outputs": [
        {
          "output_type": "stream",
          "text": [
            "tensor([[[1, 2, 3],\n",
            "         [4, 5, 6]],\n",
            "\n",
            "        [[1, 2, 3],\n",
            "         [4, 5, 6]],\n",
            "\n",
            "        [[1, 2, 3],\n",
            "         [4, 5, 6]]])\n"
          ],
          "name": "stdout"
        }
      ]
    },
    {
      "cell_type": "code",
      "metadata": {
        "id": "2gBU82BTe0_y",
        "colab": {
          "base_uri": "https://localhost:8080/"
        },
        "outputId": "392e2b4f-ce5c-4570-97d2-840fc27de565"
      },
      "source": [
        "print(y.shape)"
      ],
      "execution_count": 10,
      "outputs": [
        {
          "output_type": "stream",
          "text": [
            "torch.Size([3, 2, 3])\n"
          ],
          "name": "stdout"
        }
      ]
    },
    {
      "cell_type": "markdown",
      "metadata": {
        "id": "dOUGbVEUe9DC"
      },
      "source": [
        "### Question: Explain the result of the next cell"
      ]
    },
    {
      "cell_type": "code",
      "metadata": {
        "id": "14O04VMTe9eg",
        "colab": {
          "base_uri": "https://localhost:8080/"
        },
        "outputId": "c0c62e2d-3c49-4010-e164-f39a66c1dbe0"
      },
      "source": [
        "torch.sum(y, dim=0 ) # dim=0 means corresponding elements"
      ],
      "execution_count": 11,
      "outputs": [
        {
          "output_type": "execute_result",
          "data": {
            "text/plain": [
              "tensor([[ 3,  6,  9],\n",
              "        [12, 15, 18]])"
            ]
          },
          "metadata": {
            "tags": []
          },
          "execution_count": 11
        }
      ]
    },
    {
      "cell_type": "code",
      "metadata": {
        "colab": {
          "base_uri": "https://localhost:8080/"
        },
        "id": "d3fHGJGthtLh",
        "outputId": "3a335e72-9bbe-4eb8-8348-c21d80e5b0cc"
      },
      "source": [
        "torch.sum(y, dim=1 ) # dim=1 means along y-axis or axis 1"
      ],
      "execution_count": 12,
      "outputs": [
        {
          "output_type": "execute_result",
          "data": {
            "text/plain": [
              "tensor([[5, 7, 9],\n",
              "        [5, 7, 9],\n",
              "        [5, 7, 9]])"
            ]
          },
          "metadata": {
            "tags": []
          },
          "execution_count": 12
        }
      ]
    },
    {
      "cell_type": "code",
      "metadata": {
        "colab": {
          "base_uri": "https://localhost:8080/"
        },
        "id": "HoKHQcSghvai",
        "outputId": "586fc13a-b3d3-48eb-bb7c-5c0d53dca4c9"
      },
      "source": [
        "torch.sum(y, dim=2 ) # dim=2 means along x-axis or axis 0"
      ],
      "execution_count": 13,
      "outputs": [
        {
          "output_type": "execute_result",
          "data": {
            "text/plain": [
              "tensor([[ 6, 15],\n",
              "        [ 6, 15],\n",
              "        [ 6, 15]])"
            ]
          },
          "metadata": {
            "tags": []
          },
          "execution_count": 13
        }
      ]
    },
    {
      "cell_type": "code",
      "metadata": {
        "colab": {
          "base_uri": "https://localhost:8080/"
        },
        "id": "wGLruPAeiWkT",
        "outputId": "0917eccb-b8c3-496e-d4f1-95e565ce2e7f"
      },
      "source": [
        "torch.sum(y, dim=-1 )"
      ],
      "execution_count": 17,
      "outputs": [
        {
          "output_type": "execute_result",
          "data": {
            "text/plain": [
              "tensor([[ 6, 15],\n",
              "        [ 6, 15],\n",
              "        [ 6, 15]])"
            ]
          },
          "metadata": {
            "tags": []
          },
          "execution_count": 17
        }
      ]
    },
    {
      "cell_type": "markdown",
      "metadata": {
        "id": "Ev68h5j1ZUNH"
      },
      "source": [
        "## Broadcasting semantics\n",
        "\n",
        "In short, if a PyTorch operation supports broadcast, then its Tensor arguments can be automatically expanded to be of equal sizes (without making copies of the data).\n",
        "\n",
        "Two tensors are “broadcastable” if the following rules hold:\n",
        "\n",
        "*   Each tensor has at least one dimension.\n",
        "*   When iterating over the dimension sizes, **starting at the trailing dimension**, the dimension sizes must either be equal, one of them is 1, or one of them does not exist.\n",
        "\n",
        "If two tensors x, y are “broadcastable”, the resulting tensor size is calculated as follows:\n",
        "* If the number of dimensions of x and y are not equal, prepend 1 to the dimensions of the tensor with fewer dimensions to make them equal length.\n",
        "* Then, for each dimension size, the resulting dimension size is the max of the sizes of x and y along that dimension.\n",
        "\n",
        "More details [here](https://pytorch.org/docs/stable/notes/broadcasting.html)\n",
        "\n"
      ]
    },
    {
      "cell_type": "code",
      "metadata": {
        "id": "P3f9hXLxZXQa",
        "colab": {
          "base_uri": "https://localhost:8080/",
          "height": 34
        },
        "outputId": "1226c4b5-8f66-4389-8fdb-83b71745c103"
      },
      "source": [
        "# can line up trailing dimensions to make reading easier\n",
        "x=torch.empty(5,1,4,1)\n",
        "y=torch.empty(  3,1,1)\n",
        "print((x+y).size())\n",
        "\n"
      ],
      "execution_count": null,
      "outputs": [
        {
          "output_type": "stream",
          "text": [
            "torch.Size([5, 3, 4, 1])\n"
          ],
          "name": "stdout"
        }
      ]
    },
    {
      "cell_type": "code",
      "metadata": {
        "id": "LsYo7aBqaJ5F",
        "colab": {
          "base_uri": "https://localhost:8080/",
          "height": 34
        },
        "outputId": "7b0a6ff4-d354-4f9e-e5ab-f17f99d9b1db"
      },
      "source": [
        "# but not necessary:\n",
        "x=torch.empty(1)\n",
        "y=torch.empty(3,1,7)\n",
        "print((x+y).size())\n",
        "\n"
      ],
      "execution_count": null,
      "outputs": [
        {
          "output_type": "stream",
          "text": [
            "torch.Size([3, 1, 7])\n"
          ],
          "name": "stdout"
        }
      ]
    },
    {
      "cell_type": "markdown",
      "metadata": {
        "id": "0n_Y_hY6fxeL"
      },
      "source": [
        "### Question: The following command does not work. Why?\n",
        "\n"
      ]
    },
    {
      "cell_type": "code",
      "metadata": {
        "id": "Vq3SqanjaO6U",
        "colab": {
          "base_uri": "https://localhost:8080/",
          "height": 198
        },
        "outputId": "9603dec2-5471-4521-bf4b-7444af1d39bc"
      },
      "source": [
        "x=torch.empty(5,2,4,1)\n",
        "y=torch.empty(  3,1,1)\n",
        "print((x+y).size())\n"
      ],
      "execution_count": null,
      "outputs": [
        {
          "output_type": "error",
          "ename": "RuntimeError",
          "evalue": "ignored",
          "traceback": [
            "\u001b[0;31m---------------------------------------------------------------------------\u001b[0m",
            "\u001b[0;31mRuntimeError\u001b[0m                              Traceback (most recent call last)",
            "\u001b[0;32m<ipython-input-31-b8d3fcc0b74d>\u001b[0m in \u001b[0;36m<module>\u001b[0;34m()\u001b[0m\n\u001b[1;32m      1\u001b[0m \u001b[0mx\u001b[0m\u001b[0;34m=\u001b[0m\u001b[0mtorch\u001b[0m\u001b[0;34m.\u001b[0m\u001b[0mempty\u001b[0m\u001b[0;34m(\u001b[0m\u001b[0;36m5\u001b[0m\u001b[0;34m,\u001b[0m\u001b[0;36m2\u001b[0m\u001b[0;34m,\u001b[0m\u001b[0;36m4\u001b[0m\u001b[0;34m,\u001b[0m\u001b[0;36m1\u001b[0m\u001b[0;34m)\u001b[0m\u001b[0;34m\u001b[0m\u001b[0;34m\u001b[0m\u001b[0m\n\u001b[1;32m      2\u001b[0m \u001b[0my\u001b[0m\u001b[0;34m=\u001b[0m\u001b[0mtorch\u001b[0m\u001b[0;34m.\u001b[0m\u001b[0mempty\u001b[0m\u001b[0;34m(\u001b[0m  \u001b[0;36m3\u001b[0m\u001b[0;34m,\u001b[0m\u001b[0;36m1\u001b[0m\u001b[0;34m,\u001b[0m\u001b[0;36m1\u001b[0m\u001b[0;34m)\u001b[0m\u001b[0;34m\u001b[0m\u001b[0;34m\u001b[0m\u001b[0m\n\u001b[0;32m----> 3\u001b[0;31m \u001b[0mprint\u001b[0m\u001b[0;34m(\u001b[0m\u001b[0;34m(\u001b[0m\u001b[0mx\u001b[0m\u001b[0;34m+\u001b[0m\u001b[0my\u001b[0m\u001b[0;34m)\u001b[0m\u001b[0;34m.\u001b[0m\u001b[0msize\u001b[0m\u001b[0;34m(\u001b[0m\u001b[0;34m)\u001b[0m\u001b[0;34m)\u001b[0m\u001b[0;34m\u001b[0m\u001b[0;34m\u001b[0m\u001b[0m\n\u001b[0m",
            "\u001b[0;31mRuntimeError\u001b[0m: The size of tensor a (2) must match the size of tensor b (3) at non-singleton dimension 1"
          ]
        }
      ]
    },
    {
      "cell_type": "code",
      "metadata": {
        "id": "ha4-WRJ0g4l9",
        "colab": {
          "base_uri": "https://localhost:8080/",
          "height": 153
        },
        "outputId": "2e70c78b-3c5d-44c1-b35c-0015d23a0f20"
      },
      "source": [
        "x=2*torch.ones(  2,4)\n",
        "y=torch.ones(3,2,4)\n",
        "print(x+y)"
      ],
      "execution_count": null,
      "outputs": [
        {
          "output_type": "stream",
          "text": [
            "tensor([[[3., 3., 3., 3.],\n",
            "         [3., 3., 3., 3.]],\n",
            "\n",
            "        [[3., 3., 3., 3.],\n",
            "         [3., 3., 3., 3.]],\n",
            "\n",
            "        [[3., 3., 3., 3.],\n",
            "         [3., 3., 3., 3.]]])\n"
          ],
          "name": "stdout"
        }
      ]
    },
    {
      "cell_type": "markdown",
      "metadata": {
        "id": "Afol8pk8VPUn"
      },
      "source": [
        "### Question: What is the diffence between \"x = xr\" and \"x = xr.clone()\"? "
      ]
    },
    {
      "cell_type": "code",
      "metadata": {
        "id": "ROIvJcOngC-E",
        "colab": {
          "base_uri": "https://localhost:8080/",
          "height": 119
        },
        "outputId": "5ba86749-b4bb-4500-cab0-4edada61af7f"
      },
      "source": [
        "x = xr.clone()\n",
        "x.add_(-xr)\n",
        "print(x)\n",
        "print(xr)"
      ],
      "execution_count": null,
      "outputs": [
        {
          "output_type": "stream",
          "text": [
            "tensor([[0., 0., 0., 0., 0.],\n",
            "        [0., 0., 0., 0., 0.],\n",
            "        [0., 0., 0., 0., 0.]])\n",
            "tensor([[-1.7404, -0.4907,  2.3016,  2.7048, -0.3265],\n",
            "        [ 0.8527,  0.5809,  0.8227, -0.9419, -0.2446],\n",
            "        [ 0.3597, -0.4387, -1.3158, -1.2000, -0.6555]])\n"
          ],
          "name": "stdout"
        }
      ]
    },
    {
      "cell_type": "markdown",
      "metadata": {
        "id": "UWxZLzMrgC-J"
      },
      "source": [
        "Also be careful, changing the torch tensor modify the numpy array and vice-versa..."
      ]
    },
    {
      "cell_type": "code",
      "metadata": {
        "id": "lkcW43iugC-J",
        "colab": {
          "base_uri": "https://localhost:8080/",
          "height": 85
        },
        "outputId": "9c9adaf6-4ea3-4f2f-c3f2-09a2ec61eadc"
      },
      "source": [
        "y=torch.ones(2,4)\n",
        "print(y)\n",
        "z = y.numpy()\n",
        "print(z)"
      ],
      "execution_count": null,
      "outputs": [
        {
          "output_type": "stream",
          "text": [
            "tensor([[1., 1., 1., 1.],\n",
            "        [1., 1., 1., 1.]])\n",
            "[[1. 1. 1. 1.]\n",
            " [1. 1. 1. 1.]]\n"
          ],
          "name": "stdout"
        }
      ]
    },
    {
      "cell_type": "code",
      "metadata": {
        "id": "qvRrtvz1gC-K",
        "colab": {
          "base_uri": "https://localhost:8080/",
          "height": 170
        },
        "outputId": "754b26c4-c38d-4f9c-fbff-e84addd2781b"
      },
      "source": [
        "np.add(z, 1, out=z)\n",
        "print(\"z=\", z)\n",
        "print(\"y=\", y,\"\\n\")\n",
        "torch.add(y, -4, out=y)\n",
        "print(\"z=\",z)\n",
        "print(\"y=\",y)"
      ],
      "execution_count": null,
      "outputs": [
        {
          "output_type": "stream",
          "text": [
            "z= [[2. 2. 2. 2.]\n",
            " [2. 2. 2. 2.]]\n",
            "y= tensor([[2., 2., 2., 2.],\n",
            "        [2., 2., 2., 2.]]) \n",
            "\n",
            "z= [[-2. -2. -2. -2.]\n",
            " [-2. -2. -2. -2.]]\n",
            "y= tensor([[-2., -2., -2., -2.],\n",
            "        [-2., -2., -2., -2.]])\n"
          ],
          "name": "stdout"
        }
      ]
    },
    {
      "cell_type": "markdown",
      "metadata": {
        "id": "AmGizC3pMbm8"
      },
      "source": [
        "## Computational graphs"
      ]
    },
    {
      "cell_type": "code",
      "metadata": {
        "id": "O5Kw7MQpMxWB"
      },
      "source": [
        "import matplotlib.pyplot as plt\n",
        "%matplotlib inline\n",
        "import torch"
      ],
      "execution_count": 1,
      "outputs": []
    },
    {
      "cell_type": "code",
      "metadata": {
        "id": "2Gza10WeM10G",
        "colab": {
          "base_uri": "https://localhost:8080/"
        },
        "outputId": "db4a23f5-557d-46de-f781-82cd53267688"
      },
      "source": [
        "!pip install torchviz"
      ],
      "execution_count": 2,
      "outputs": [
        {
          "output_type": "stream",
          "text": [
            "Collecting torchviz\n",
            "\u001b[?25l  Downloading https://files.pythonhosted.org/packages/8f/8e/a9630c7786b846d08b47714dd363a051f5e37b4ea0e534460d8cdfc1644b/torchviz-0.0.1.tar.gz (41kB)\n",
            "\r\u001b[K     |████████                        | 10kB 16.1MB/s eta 0:00:01\r\u001b[K     |████████████████                | 20kB 20.6MB/s eta 0:00:01\r\u001b[K     |███████████████████████▉        | 30kB 13.0MB/s eta 0:00:01\r\u001b[K     |███████████████████████████████▉| 40kB 10.1MB/s eta 0:00:01\r\u001b[K     |████████████████████████████████| 51kB 4.6MB/s \n",
            "\u001b[?25hRequirement already satisfied: torch in /usr/local/lib/python3.6/dist-packages (from torchviz) (1.7.0+cu101)\n",
            "Requirement already satisfied: graphviz in /usr/local/lib/python3.6/dist-packages (from torchviz) (0.10.1)\n",
            "Requirement already satisfied: numpy in /usr/local/lib/python3.6/dist-packages (from torch->torchviz) (1.18.5)\n",
            "Requirement already satisfied: typing-extensions in /usr/local/lib/python3.6/dist-packages (from torch->torchviz) (3.7.4.3)\n",
            "Requirement already satisfied: future in /usr/local/lib/python3.6/dist-packages (from torch->torchviz) (0.16.0)\n",
            "Requirement already satisfied: dataclasses in /usr/local/lib/python3.6/dist-packages (from torch->torchviz) (0.8)\n",
            "Building wheels for collected packages: torchviz\n",
            "  Building wheel for torchviz (setup.py) ... \u001b[?25l\u001b[?25hdone\n",
            "  Created wheel for torchviz: filename=torchviz-0.0.1-cp36-none-any.whl size=3520 sha256=82e18c2d85de0f26fdfc143802b5423c0f113dc637edbeafc5292ae2e5fdd075\n",
            "  Stored in directory: /root/.cache/pip/wheels/2a/c2/c5/b8b4d0f7992c735f6db5bfa3c5f354cf36502037ca2b585667\n",
            "Successfully built torchviz\n",
            "Installing collected packages: torchviz\n",
            "Successfully installed torchviz-0.0.1\n"
          ],
          "name": "stdout"
        }
      ]
    },
    {
      "cell_type": "code",
      "metadata": {
        "id": "1nEbmC7TM1mw"
      },
      "source": [
        "import torchviz"
      ],
      "execution_count": 3,
      "outputs": []
    },
    {
      "cell_type": "code",
      "metadata": {
        "id": "5Z2dMtEOMuWb",
        "colab": {
          "base_uri": "https://localhost:8080/",
          "height": 323
        },
        "outputId": "b72b8b13-077d-4f19-929e-724e8d005da6"
      },
      "source": [
        "x = torch.ones(2, 2, requires_grad=True)\n",
        "w = torch.rand(1, 1, requires_grad=True)\n",
        "print(x)\n",
        "print(w)\n",
        "y = w * x + 2\n",
        "print(y)\n",
        "torchviz.make_dot(y)"
      ],
      "execution_count": 7,
      "outputs": [
        {
          "output_type": "stream",
          "text": [
            "tensor([[1., 1.],\n",
            "        [1., 1.]], requires_grad=True)\n",
            "tensor([[0.1546]], requires_grad=True)\n",
            "tensor([[2.1546, 2.1546],\n",
            "        [2.1546, 2.1546]], grad_fn=<AddBackward0>)\n"
          ],
          "name": "stdout"
        },
        {
          "output_type": "execute_result",
          "data": {
            "text/plain": [
              "<graphviz.dot.Digraph at 0x7fb94ecc7240>"
            ],
            "image/svg+xml": "<?xml version=\"1.0\" encoding=\"UTF-8\" standalone=\"no\"?>\n<!DOCTYPE svg PUBLIC \"-//W3C//DTD SVG 1.1//EN\"\n \"http://www.w3.org/Graphics/SVG/1.1/DTD/svg11.dtd\">\n<!-- Generated by graphviz version 2.40.1 (20161225.0304)\n -->\n<!-- Title: %3 Pages: 1 -->\n<svg width=\"134pt\" height=\"157pt\"\n viewBox=\"0.00 0.00 134.00 157.00\" xmlns=\"http://www.w3.org/2000/svg\" xmlns:xlink=\"http://www.w3.org/1999/xlink\">\n<g id=\"graph0\" class=\"graph\" transform=\"scale(1 1) rotate(0) translate(4 153)\">\n<title>%3</title>\n<polygon fill=\"#ffffff\" stroke=\"transparent\" points=\"-4,4 -4,-153 130,-153 130,4 -4,4\"/>\n<!-- 140433867702168 -->\n<g id=\"node1\" class=\"node\">\n<title>140433867702168</title>\n<polygon fill=\"#caff70\" stroke=\"#000000\" points=\"109,-21 17,-21 17,0 109,0 109,-21\"/>\n<text text-anchor=\"middle\" x=\"63\" y=\"-7.4\" font-family=\"Times,serif\" font-size=\"12.00\" fill=\"#000000\">AddBackward0</text>\n</g>\n<!-- 140433867698360 -->\n<g id=\"node2\" class=\"node\">\n<title>140433867698360</title>\n<polygon fill=\"#d3d3d3\" stroke=\"#000000\" points=\"108.5,-78 17.5,-78 17.5,-57 108.5,-57 108.5,-78\"/>\n<text text-anchor=\"middle\" x=\"63\" y=\"-64.4\" font-family=\"Times,serif\" font-size=\"12.00\" fill=\"#000000\">MulBackward0</text>\n</g>\n<!-- 140433867698360&#45;&gt;140433867702168 -->\n<g id=\"edge1\" class=\"edge\">\n<title>140433867698360&#45;&gt;140433867702168</title>\n<path fill=\"none\" stroke=\"#000000\" d=\"M63,-56.7787C63,-49.6134 63,-39.9517 63,-31.3097\"/>\n<polygon fill=\"#000000\" stroke=\"#000000\" points=\"66.5001,-31.1732 63,-21.1732 59.5001,-31.1732 66.5001,-31.1732\"/>\n</g>\n<!-- 140433867698976 -->\n<g id=\"node3\" class=\"node\">\n<title>140433867698976</title>\n<polygon fill=\"#add8e6\" stroke=\"#000000\" points=\"54,-149 0,-149 0,-114 54,-114 54,-149\"/>\n<text text-anchor=\"middle\" x=\"27\" y=\"-121.4\" font-family=\"Times,serif\" font-size=\"12.00\" fill=\"#000000\"> (1, 1)</text>\n</g>\n<!-- 140433867698976&#45;&gt;140433867698360 -->\n<g id=\"edge2\" class=\"edge\">\n<title>140433867698976&#45;&gt;140433867698360</title>\n<path fill=\"none\" stroke=\"#000000\" d=\"M37.028,-113.6724C41.6838,-105.3956 47.2312,-95.5334 52.0015,-87.053\"/>\n<polygon fill=\"#000000\" stroke=\"#000000\" points=\"55.1159,-88.6551 56.9681,-78.2234 49.0149,-85.2233 55.1159,-88.6551\"/>\n</g>\n<!-- 140433867698416 -->\n<g id=\"node4\" class=\"node\">\n<title>140433867698416</title>\n<polygon fill=\"#add8e6\" stroke=\"#000000\" points=\"126,-149 72,-149 72,-114 126,-114 126,-149\"/>\n<text text-anchor=\"middle\" x=\"99\" y=\"-121.4\" font-family=\"Times,serif\" font-size=\"12.00\" fill=\"#000000\"> (2, 2)</text>\n</g>\n<!-- 140433867698416&#45;&gt;140433867698360 -->\n<g id=\"edge3\" class=\"edge\">\n<title>140433867698416&#45;&gt;140433867698360</title>\n<path fill=\"none\" stroke=\"#000000\" d=\"M88.972,-113.6724C84.3162,-105.3956 78.7688,-95.5334 73.9985,-87.053\"/>\n<polygon fill=\"#000000\" stroke=\"#000000\" points=\"76.9851,-85.2233 69.0319,-78.2234 70.8841,-88.6551 76.9851,-85.2233\"/>\n</g>\n</g>\n</svg>\n"
          },
          "metadata": {
            "tags": []
          },
          "execution_count": 7
        }
      ]
    },
    {
      "cell_type": "markdown",
      "metadata": {
        "id": "uSvS2bdKidcc"
      },
      "source": [
        "\n",
        "## Playing with pytorch: linear regression"
      ]
    },
    {
      "cell_type": "markdown",
      "metadata": {
        "id": "UzjNRT-OSCzL"
      },
      "source": [
        "Code for plotting the surface"
      ]
    },
    {
      "cell_type": "code",
      "metadata": {
        "id": "KhuyxIm1Rd0W"
      },
      "source": [
        "import matplotlib.pyplot as plt\n",
        "import numpy as np\n",
        "from mpl_toolkits.mplot3d import Axes3D\n",
        "\n",
        "def plot_figs(fig_num, elev, azim, x, y, weights, bias):\n",
        "    fig = plt.figure(fig_num, figsize=(4, 3))\n",
        "    plt.clf()\n",
        "    ax = Axes3D(fig, elev=elev, azim=azim)\n",
        "    ax.scatter(x[:, 0], x[:, 1], y)\n",
        "    ax.plot_surface(np.array(\n",
        "                             [\n",
        "                              [0, 0],\n",
        "                              [1, 1]\n",
        "                             ]\n",
        "                            ),\n",
        "                    np.array(\n",
        "                             [\n",
        "                              [0, 1], \n",
        "                              [0, 1]\n",
        "                             ]\n",
        "                            ),\n",
        "                    (np.dot(np.array([\n",
        "                                      [0, 0, 1, 1],\n",
        "                                      [0, 1, 0, 1]\n",
        "                                     ]).T, weights) + bias).reshape((2, 2)),\n",
        "                    alpha=.5)\n",
        "    ax.set_xlabel('x_1')\n",
        "    ax.set_ylabel('x_2')\n",
        "    ax.set_zlabel('y')\n",
        "    \n",
        "def plot_views(x, y, w, b):\n",
        "    # Generate the different figures from different views\n",
        "    elev = 43.5\n",
        "    azim = -110\n",
        "    plot_figs(1, elev, azim, x, y, w, b[0])\n",
        "\n",
        "    plt.show()"
      ],
      "execution_count": 8,
      "outputs": []
    },
    {
      "cell_type": "markdown",
      "metadata": {
        "id": "Bkt2h0X6SFmR"
      },
      "source": [
        "Code for generating the 2D points"
      ]
    },
    {
      "cell_type": "code",
      "metadata": {
        "id": "14tvkKCyMwYD",
        "colab": {
          "base_uri": "https://localhost:8080/"
        },
        "outputId": "cfc2a974-c30b-4f9e-c46d-e0477bbad6a3"
      },
      "source": [
        "#Data generation (2D points)\n",
        "w_source = torch.tensor([2., -3.], dtype=torch.float).view(-1,1) # or view(2,1)\n",
        "b_source  = torch.tensor([1.], dtype=torch.float)\n",
        "\n",
        "x = torch.empty(30, 2).uniform_(0, 1) # input of the regression model\n",
        "\n",
        "print(x.shape)\n",
        "print(w_source.shape)\n",
        "print(b_source.shape)\n",
        "\n",
        "y = torch.matmul(x,w_source)+b_source # output of the regression model\n",
        "print(y.shape)"
      ],
      "execution_count": 16,
      "outputs": [
        {
          "output_type": "stream",
          "text": [
            "torch.Size([30, 2])\n",
            "torch.Size([2, 1])\n",
            "torch.Size([1])\n",
            "torch.Size([30, 1])\n"
          ],
          "name": "stdout"
        }
      ]
    },
    {
      "cell_type": "code",
      "metadata": {
        "colab": {
          "base_uri": "https://localhost:8080/"
        },
        "id": "dM5tps23Jgai",
        "outputId": "a8ad6c8c-4fe4-490e-8b41-923e6a05cab6"
      },
      "source": [
        "print(\"x: \", x)\n",
        "print(\"w: \", w_source)\n",
        "print(\"b: \", b_source)\n",
        "print(\"y: \", y)"
      ],
      "execution_count": 14,
      "outputs": [
        {
          "output_type": "stream",
          "text": [
            "x:  tensor([[0.4131, 0.2527],\n",
            "        [0.1874, 0.4833],\n",
            "        [0.0521, 0.2512],\n",
            "        [0.6511, 0.1182],\n",
            "        [0.0319, 0.2321],\n",
            "        [0.2725, 0.5800],\n",
            "        [0.9941, 0.1924],\n",
            "        [0.2304, 0.6020],\n",
            "        [0.8328, 0.0121],\n",
            "        [0.0917, 0.0348],\n",
            "        [0.3937, 0.2973],\n",
            "        [0.4728, 0.2559],\n",
            "        [0.5840, 0.2648],\n",
            "        [0.9948, 0.2539],\n",
            "        [0.3105, 0.3401],\n",
            "        [0.3306, 0.4561],\n",
            "        [0.3974, 0.0380],\n",
            "        [0.5049, 0.9307],\n",
            "        [0.9587, 0.9170],\n",
            "        [0.0615, 0.3282],\n",
            "        [0.0205, 0.8114],\n",
            "        [0.6118, 0.0759],\n",
            "        [0.8568, 0.2144],\n",
            "        [0.3681, 0.1819],\n",
            "        [0.2574, 0.0524],\n",
            "        [0.8930, 0.5877],\n",
            "        [0.2922, 0.6851],\n",
            "        [0.0729, 0.2201],\n",
            "        [0.3527, 0.8963],\n",
            "        [0.4033, 0.8766]])\n",
            "w:  tensor([[ 2.],\n",
            "        [-3.]])\n",
            "b:  tensor([1.])\n",
            "y:  tensor([[ 1.0679],\n",
            "        [-0.0751],\n",
            "        [ 0.3506],\n",
            "        [ 1.9477],\n",
            "        [ 0.3675],\n",
            "        [-0.1950],\n",
            "        [ 2.4112],\n",
            "        [-0.3452],\n",
            "        [ 2.6293],\n",
            "        [ 1.0791],\n",
            "        [ 0.8954],\n",
            "        [ 1.1780],\n",
            "        [ 1.3735],\n",
            "        [ 2.2279],\n",
            "        [ 0.6009],\n",
            "        [ 0.2930],\n",
            "        [ 1.6810],\n",
            "        [-0.7824],\n",
            "        [ 0.1662],\n",
            "        [ 0.1385],\n",
            "        [-1.3932],\n",
            "        [ 1.9959],\n",
            "        [ 2.0704],\n",
            "        [ 1.1903],\n",
            "        [ 1.3575],\n",
            "        [ 1.0229],\n",
            "        [-0.4711],\n",
            "        [ 0.4856],\n",
            "        [-0.9835],\n",
            "        [-0.8232]])\n"
          ],
          "name": "stdout"
        }
      ]
    },
    {
      "cell_type": "markdown",
      "metadata": {
        "id": "KW6YMS6tSMVr"
      },
      "source": [
        "Plot the dataset"
      ]
    },
    {
      "cell_type": "code",
      "metadata": {
        "id": "rMRbqdZaRjCz",
        "colab": {
          "base_uri": "https://localhost:8080/",
          "height": 247
        },
        "outputId": "d05ef315-16a7-4746-ec7b-0e290508caea"
      },
      "source": [
        "plot_views(x.numpy(), y.numpy(), w_source.numpy(), b_source.numpy())"
      ],
      "execution_count": 24,
      "outputs": [
        {
          "output_type": "display_data",
          "data": {
            "image/png": "[encoded data removed]",
            "text/plain": [
              "<Figure size 288x216 with 1 Axes>"
            ]
          },
          "metadata": {
            "tags": [],
            "needs_background": "light"
          }
        }
      ]
    },
    {
      "cell_type": "code",
      "metadata": {
        "id": "bsGaEFPRiduc",
        "colab": {
          "base_uri": "https://localhost:8080/"
        },
        "outputId": "463a2c25-c235-4c87-8024-76d4a8404083"
      },
      "source": [
        "# randomly initialize learnable weights and bias\n",
        "w_t_init = torch.empty(2, 1).uniform_(-1, 1) \n",
        "b_t_init = torch.empty(1, 1).uniform_(-1, 1)\n",
        "\n",
        "print(\"Initial values of the parameters:\")\n",
        "print(w_t_init) \n",
        "print(b_t_init)\n",
        "\n"
      ],
      "execution_count": 19,
      "outputs": [
        {
          "output_type": "stream",
          "text": [
            "Initial values of the parameters:\n",
            "tensor([[0.1178],\n",
            "        [0.7704]])\n",
            "tensor([[-0.4407]])\n"
          ],
          "name": "stdout"
        }
      ]
    },
    {
      "cell_type": "markdown",
      "metadata": {
        "id": "y2GD_KIBUTgS"
      },
      "source": [
        "### Question: calculate the gradient of the loss and code it."
      ]
    },
    {
      "cell_type": "markdown",
      "metadata": {
        "id": "CDEXKHBf2hQc"
      },
      "source": [
        "Criterion to minimize:\n",
        "\n",
        "$$\n",
        "J(w_t,b_t)=\\sum_{i=1}^{30}{(\\hat{y}_i-y_i)}^2=\\sum_{i=1}^{30}{(x_iw_t+b_t-y_i)}^2={\\parallel x w_t+b_t 1_{30}-y\\parallel}^2\n",
        "$$\n",
        "\n",
        "Gradient:\n",
        "\n",
        "$$\n",
        "\\frac{\\partial J(w_t,b_t)}{\\partial w_t}=2x^Txw_t+2x^T 1_{30} b_t-2x^T y=2x^T(xw_t+1_{30} b_t-y)\n",
        "$$\n",
        "\n",
        "$$\n",
        "\\frac{\\partial J(w_t,b_t)}{\\partial b_t}=2\\sum_{i=1}^{30}{(x_iw_t+b_t-y_i)}\n",
        "$$"
      ]
    },
    {
      "cell_type": "code",
      "metadata": {
        "id": "xSwsgVkpPE2i"
      },
      "source": [
        "# our model forward pass\n",
        "def forward_t(x):\n",
        "    return x.mm(w_t)+b_t\n",
        "\n",
        "# Loss function\n",
        "def loss_t(x, y):\n",
        "    y_pred = forward_t(x)\n",
        "    return (y_pred - y).pow(2).sum()\n",
        "\n",
        "# compute gradient\n",
        "def gradient_t(x, y):  # d_loss/d_w, d_loss/d_c\n",
        "    return 2*torch.mm(torch.t(x),x.mm(w_t)+b_t - y), 2 * (x.mm(w_t)+b_t - y).sum()\n",
        "\n"
      ],
      "execution_count": 17,
      "outputs": []
    },
    {
      "cell_type": "markdown",
      "metadata": {
        "id": "7x8wNpUISp88"
      },
      "source": [
        "Main loop for computing the estimate (gradient descent)"
      ]
    },
    {
      "cell_type": "markdown",
      "metadata": {
        "id": "pAAxsXCqUSuR"
      },
      "source": [
        "### Question: code the gradient descent algorithm within the main loop."
      ]
    },
    {
      "cell_type": "code",
      "metadata": {
        "id": "zmh-_IHaidxp",
        "colab": {
          "base_uri": "https://localhost:8080/"
        },
        "outputId": "d8b7df56-0997-4de9-e396-499687e082a3"
      },
      "source": [
        "learning_rate = 1e-2\n",
        "\n",
        "w_t = w_t_init.clone()\n",
        "b_t = b_t_init.clone()\n",
        "\n",
        "for epoch in range(200):\n",
        "    l = loss_t(x,y)\n",
        "    grad_w, grad_b = gradient_t(x,y)\n",
        "    w_t = w_t-learning_rate*grad_w\n",
        "    b_t = b_t-learning_rate*grad_b\n",
        "    print(\"progress:\", \"epoch:\", epoch, \"loss\",l)"
      ],
      "execution_count": 20,
      "outputs": [
        {
          "output_type": "stream",
          "text": [
            "progress: epoch: 0 loss tensor(76.3711)\n",
            "progress: epoch: 1 loss tensor(43.4495)\n",
            "progress: epoch: 2 loss tensor(38.1497)\n",
            "progress: epoch: 3 loss tensor(34.3315)\n",
            "progress: epoch: 4 loss tensor(30.9399)\n",
            "progress: epoch: 5 loss tensor(27.8956)\n",
            "progress: epoch: 6 loss tensor(25.1609)\n",
            "progress: epoch: 7 loss tensor(22.7036)\n",
            "progress: epoch: 8 loss tensor(20.4947)\n",
            "progress: epoch: 9 loss tensor(18.5085)\n",
            "progress: epoch: 10 loss tensor(16.7219)\n",
            "progress: epoch: 11 loss tensor(15.1144)\n",
            "progress: epoch: 12 loss tensor(13.6674)\n",
            "progress: epoch: 13 loss tensor(12.3645)\n",
            "progress: epoch: 14 loss tensor(11.1908)\n",
            "progress: epoch: 15 loss tensor(10.1332)\n",
            "progress: epoch: 16 loss tensor(9.1797)\n",
            "progress: epoch: 17 loss tensor(8.3199)\n",
            "progress: epoch: 18 loss tensor(7.5441)\n",
            "progress: epoch: 19 loss tensor(6.8439)\n",
            "progress: epoch: 20 loss tensor(6.2117)\n",
            "progress: epoch: 21 loss tensor(5.6406)\n",
            "progress: epoch: 22 loss tensor(5.1245)\n",
            "progress: epoch: 23 loss tensor(4.6578)\n",
            "progress: epoch: 24 loss tensor(4.2357)\n",
            "progress: epoch: 25 loss tensor(3.8538)\n",
            "progress: epoch: 26 loss tensor(3.5080)\n",
            "progress: epoch: 27 loss tensor(3.1948)\n",
            "progress: epoch: 28 loss tensor(2.9109)\n",
            "progress: epoch: 29 loss tensor(2.6536)\n",
            "progress: epoch: 30 loss tensor(2.4202)\n",
            "progress: epoch: 31 loss tensor(2.2084)\n",
            "progress: epoch: 32 loss tensor(2.0161)\n",
            "progress: epoch: 33 loss tensor(1.8414)\n",
            "progress: epoch: 34 loss tensor(1.6827)\n",
            "progress: epoch: 35 loss tensor(1.5383)\n",
            "progress: epoch: 36 loss tensor(1.4070)\n",
            "progress: epoch: 37 loss tensor(1.2876)\n",
            "progress: epoch: 38 loss tensor(1.1788)\n",
            "progress: epoch: 39 loss tensor(1.0796)\n",
            "progress: epoch: 40 loss tensor(0.9893)\n",
            "progress: epoch: 41 loss tensor(0.9069)\n",
            "progress: epoch: 42 loss tensor(0.8318)\n",
            "progress: epoch: 43 loss tensor(0.7632)\n",
            "progress: epoch: 44 loss tensor(0.7005)\n",
            "progress: epoch: 45 loss tensor(0.6433)\n",
            "progress: epoch: 46 loss tensor(0.5910)\n",
            "progress: epoch: 47 loss tensor(0.5431)\n",
            "progress: epoch: 48 loss tensor(0.4993)\n",
            "progress: epoch: 49 loss tensor(0.4593)\n",
            "progress: epoch: 50 loss tensor(0.4226)\n",
            "progress: epoch: 51 loss tensor(0.3889)\n",
            "progress: epoch: 52 loss tensor(0.3581)\n",
            "progress: epoch: 53 loss tensor(0.3299)\n",
            "progress: epoch: 54 loss tensor(0.3040)\n",
            "progress: epoch: 55 loss tensor(0.2802)\n",
            "progress: epoch: 56 loss tensor(0.2583)\n",
            "progress: epoch: 57 loss tensor(0.2383)\n",
            "progress: epoch: 58 loss tensor(0.2198)\n",
            "progress: epoch: 59 loss tensor(0.2029)\n",
            "progress: epoch: 60 loss tensor(0.1873)\n",
            "progress: epoch: 61 loss tensor(0.1729)\n",
            "progress: epoch: 62 loss tensor(0.1598)\n",
            "progress: epoch: 63 loss tensor(0.1476)\n",
            "progress: epoch: 64 loss tensor(0.1364)\n",
            "progress: epoch: 65 loss tensor(0.1261)\n",
            "progress: epoch: 66 loss tensor(0.1166)\n",
            "progress: epoch: 67 loss tensor(0.1078)\n",
            "progress: epoch: 68 loss tensor(0.0998)\n",
            "progress: epoch: 69 loss tensor(0.0923)\n",
            "progress: epoch: 70 loss tensor(0.0854)\n",
            "progress: epoch: 71 loss tensor(0.0791)\n",
            "progress: epoch: 72 loss tensor(0.0732)\n",
            "progress: epoch: 73 loss tensor(0.0678)\n",
            "progress: epoch: 74 loss tensor(0.0628)\n",
            "progress: epoch: 75 loss tensor(0.0582)\n",
            "progress: epoch: 76 loss tensor(0.0539)\n",
            "progress: epoch: 77 loss tensor(0.0500)\n",
            "progress: epoch: 78 loss tensor(0.0463)\n",
            "progress: epoch: 79 loss tensor(0.0429)\n",
            "progress: epoch: 80 loss tensor(0.0398)\n",
            "progress: epoch: 81 loss tensor(0.0369)\n",
            "progress: epoch: 82 loss tensor(0.0342)\n",
            "progress: epoch: 83 loss tensor(0.0318)\n",
            "progress: epoch: 84 loss tensor(0.0295)\n",
            "progress: epoch: 85 loss tensor(0.0273)\n",
            "progress: epoch: 86 loss tensor(0.0254)\n",
            "progress: epoch: 87 loss tensor(0.0235)\n",
            "progress: epoch: 88 loss tensor(0.0219)\n",
            "progress: epoch: 89 loss tensor(0.0203)\n",
            "progress: epoch: 90 loss tensor(0.0188)\n",
            "progress: epoch: 91 loss tensor(0.0175)\n",
            "progress: epoch: 92 loss tensor(0.0162)\n",
            "progress: epoch: 93 loss tensor(0.0151)\n",
            "progress: epoch: 94 loss tensor(0.0140)\n",
            "progress: epoch: 95 loss tensor(0.0130)\n",
            "progress: epoch: 96 loss tensor(0.0121)\n",
            "progress: epoch: 97 loss tensor(0.0112)\n",
            "progress: epoch: 98 loss tensor(0.0104)\n",
            "progress: epoch: 99 loss tensor(0.0097)\n",
            "progress: epoch: 100 loss tensor(0.0090)\n",
            "progress: epoch: 101 loss tensor(0.0084)\n",
            "progress: epoch: 102 loss tensor(0.0078)\n",
            "progress: epoch: 103 loss tensor(0.0072)\n",
            "progress: epoch: 104 loss tensor(0.0067)\n",
            "progress: epoch: 105 loss tensor(0.0062)\n",
            "progress: epoch: 106 loss tensor(0.0058)\n",
            "progress: epoch: 107 loss tensor(0.0054)\n",
            "progress: epoch: 108 loss tensor(0.0050)\n",
            "progress: epoch: 109 loss tensor(0.0047)\n",
            "progress: epoch: 110 loss tensor(0.0043)\n",
            "progress: epoch: 111 loss tensor(0.0040)\n",
            "progress: epoch: 112 loss tensor(0.0037)\n",
            "progress: epoch: 113 loss tensor(0.0035)\n",
            "progress: epoch: 114 loss tensor(0.0032)\n",
            "progress: epoch: 115 loss tensor(0.0030)\n",
            "progress: epoch: 116 loss tensor(0.0028)\n",
            "progress: epoch: 117 loss tensor(0.0026)\n",
            "progress: epoch: 118 loss tensor(0.0024)\n",
            "progress: epoch: 119 loss tensor(0.0023)\n",
            "progress: epoch: 120 loss tensor(0.0021)\n",
            "progress: epoch: 121 loss tensor(0.0019)\n",
            "progress: epoch: 122 loss tensor(0.0018)\n",
            "progress: epoch: 123 loss tensor(0.0017)\n",
            "progress: epoch: 124 loss tensor(0.0016)\n",
            "progress: epoch: 125 loss tensor(0.0015)\n",
            "progress: epoch: 126 loss tensor(0.0014)\n",
            "progress: epoch: 127 loss tensor(0.0013)\n",
            "progress: epoch: 128 loss tensor(0.0012)\n",
            "progress: epoch: 129 loss tensor(0.0011)\n",
            "progress: epoch: 130 loss tensor(0.0010)\n",
            "progress: epoch: 131 loss tensor(0.0009)\n",
            "progress: epoch: 132 loss tensor(0.0009)\n",
            "progress: epoch: 133 loss tensor(0.0008)\n",
            "progress: epoch: 134 loss tensor(0.0008)\n",
            "progress: epoch: 135 loss tensor(0.0007)\n",
            "progress: epoch: 136 loss tensor(0.0007)\n",
            "progress: epoch: 137 loss tensor(0.0006)\n",
            "progress: epoch: 138 loss tensor(0.0006)\n",
            "progress: epoch: 139 loss tensor(0.0005)\n",
            "progress: epoch: 140 loss tensor(0.0005)\n",
            "progress: epoch: 141 loss tensor(0.0005)\n",
            "progress: epoch: 142 loss tensor(0.0004)\n",
            "progress: epoch: 143 loss tensor(0.0004)\n",
            "progress: epoch: 144 loss tensor(0.0004)\n",
            "progress: epoch: 145 loss tensor(0.0003)\n",
            "progress: epoch: 146 loss tensor(0.0003)\n",
            "progress: epoch: 147 loss tensor(0.0003)\n",
            "progress: epoch: 148 loss tensor(0.0003)\n",
            "progress: epoch: 149 loss tensor(0.0003)\n",
            "progress: epoch: 150 loss tensor(0.0002)\n",
            "progress: epoch: 151 loss tensor(0.0002)\n",
            "progress: epoch: 152 loss tensor(0.0002)\n",
            "progress: epoch: 153 loss tensor(0.0002)\n",
            "progress: epoch: 154 loss tensor(0.0002)\n",
            "progress: epoch: 155 loss tensor(0.0002)\n",
            "progress: epoch: 156 loss tensor(0.0002)\n",
            "progress: epoch: 157 loss tensor(0.0001)\n",
            "progress: epoch: 158 loss tensor(0.0001)\n",
            "progress: epoch: 159 loss tensor(0.0001)\n",
            "progress: epoch: 160 loss tensor(0.0001)\n",
            "progress: epoch: 161 loss tensor(0.0001)\n",
            "progress: epoch: 162 loss tensor(0.0001)\n",
            "progress: epoch: 163 loss tensor(9.4055e-05)\n",
            "progress: epoch: 164 loss tensor(8.7524e-05)\n",
            "progress: epoch: 165 loss tensor(8.1447e-05)\n",
            "progress: epoch: 166 loss tensor(7.5796e-05)\n",
            "progress: epoch: 167 loss tensor(7.0534e-05)\n",
            "progress: epoch: 168 loss tensor(6.5637e-05)\n",
            "progress: epoch: 169 loss tensor(6.1081e-05)\n",
            "progress: epoch: 170 loss tensor(5.6842e-05)\n",
            "progress: epoch: 171 loss tensor(5.2897e-05)\n",
            "progress: epoch: 172 loss tensor(4.9226e-05)\n",
            "progress: epoch: 173 loss tensor(4.5809e-05)\n",
            "progress: epoch: 174 loss tensor(4.2631e-05)\n",
            "progress: epoch: 175 loss tensor(3.9673e-05)\n",
            "progress: epoch: 176 loss tensor(3.6920e-05)\n",
            "progress: epoch: 177 loss tensor(3.4357e-05)\n",
            "progress: epoch: 178 loss tensor(3.1974e-05)\n",
            "progress: epoch: 179 loss tensor(2.9756e-05)\n",
            "progress: epoch: 180 loss tensor(2.7693e-05)\n",
            "progress: epoch: 181 loss tensor(2.5771e-05)\n",
            "progress: epoch: 182 loss tensor(2.3984e-05)\n",
            "progress: epoch: 183 loss tensor(2.2320e-05)\n",
            "progress: epoch: 184 loss tensor(2.0771e-05)\n",
            "progress: epoch: 185 loss tensor(1.9331e-05)\n",
            "progress: epoch: 186 loss tensor(1.7991e-05)\n",
            "progress: epoch: 187 loss tensor(1.6742e-05)\n",
            "progress: epoch: 188 loss tensor(1.5583e-05)\n",
            "progress: epoch: 189 loss tensor(1.4501e-05)\n",
            "progress: epoch: 190 loss tensor(1.3495e-05)\n",
            "progress: epoch: 191 loss tensor(1.2559e-05)\n",
            "progress: epoch: 192 loss tensor(1.1689e-05)\n",
            "progress: epoch: 193 loss tensor(1.0879e-05)\n",
            "progress: epoch: 194 loss tensor(1.0125e-05)\n",
            "progress: epoch: 195 loss tensor(9.4227e-06)\n",
            "progress: epoch: 196 loss tensor(8.7701e-06)\n",
            "progress: epoch: 197 loss tensor(8.1604e-06)\n",
            "progress: epoch: 198 loss tensor(7.5946e-06)\n",
            "progress: epoch: 199 loss tensor(7.0692e-06)\n"
          ],
          "name": "stdout"
        }
      ]
    },
    {
      "cell_type": "code",
      "metadata": {
        "id": "87XspCGIid0t",
        "colab": {
          "base_uri": "https://localhost:8080/"
        },
        "outputId": "f6bdd8a2-d5c1-4430-9b98-c04c26cc0d71"
      },
      "source": [
        "# After training\n",
        "print(\"Estimation of the parameters:\")\n",
        "print(w_t)\n",
        "print(b_t)"
      ],
      "execution_count": 21,
      "outputs": [
        {
          "output_type": "stream",
          "text": [
            "Estimation of the parameters:\n",
            "tensor([[ 2.0009],\n",
            "        [-2.9986]])\n",
            "tensor([[0.9991]])\n"
          ],
          "name": "stdout"
        }
      ]
    },
    {
      "cell_type": "markdown",
      "metadata": {
        "id": "sceg1L15TqSy"
      },
      "source": [
        "### Question: Test a higher learning rate (e.g., learning_rate = 1). Explain what you observe."
      ]
    },
    {
      "cell_type": "code",
      "metadata": {
        "colab": {
          "base_uri": "https://localhost:8080/"
        },
        "id": "29UQ9vArQ6CR",
        "outputId": "41c41fe2-2342-445a-89d0-4149e7886c54"
      },
      "source": [
        "learning_rate = 1\n",
        "\n",
        "w_t = w_t_init.clone()\n",
        "b_t = b_t_init.clone()\n",
        "\n",
        "for epoch in range(200):\n",
        "    l = loss_t(x,y)\n",
        "    grad_w, grad_b = gradient_t(x,y)\n",
        "    w_t = w_t-learning_rate*grad_w\n",
        "    b_t = b_t-learning_rate*grad_b\n",
        "    print(\"progress:\", \"epoch:\", epoch, \"loss\",l)"
      ],
      "execution_count": 22,
      "outputs": [
        {
          "output_type": "stream",
          "text": [
            "progress: epoch: 0 loss tensor(76.3711)\n",
            "progress: epoch: 1 loss tensor(185653.6562)\n",
            "progress: epoch: 2 loss tensor(1.1630e+09)\n",
            "progress: epoch: 3 loss tensor(7.3187e+12)\n",
            "progress: epoch: 4 loss tensor(4.6055e+16)\n",
            "progress: epoch: 5 loss tensor(2.8982e+20)\n",
            "progress: epoch: 6 loss tensor(1.8238e+24)\n",
            "progress: epoch: 7 loss tensor(1.1477e+28)\n",
            "progress: epoch: 8 loss tensor(7.2221e+31)\n",
            "progress: epoch: 9 loss tensor(4.5448e+35)\n",
            "progress: epoch: 10 loss tensor(inf)\n",
            "progress: epoch: 11 loss tensor(inf)\n",
            "progress: epoch: 12 loss tensor(inf)\n",
            "progress: epoch: 13 loss tensor(inf)\n",
            "progress: epoch: 14 loss tensor(inf)\n",
            "progress: epoch: 15 loss tensor(inf)\n",
            "progress: epoch: 16 loss tensor(inf)\n",
            "progress: epoch: 17 loss tensor(inf)\n",
            "progress: epoch: 18 loss tensor(inf)\n",
            "progress: epoch: 19 loss tensor(inf)\n",
            "progress: epoch: 20 loss tensor(inf)\n",
            "progress: epoch: 21 loss tensor(inf)\n",
            "progress: epoch: 22 loss tensor(nan)\n",
            "progress: epoch: 23 loss tensor(nan)\n",
            "progress: epoch: 24 loss tensor(nan)\n",
            "progress: epoch: 25 loss tensor(nan)\n",
            "progress: epoch: 26 loss tensor(nan)\n",
            "progress: epoch: 27 loss tensor(nan)\n",
            "progress: epoch: 28 loss tensor(nan)\n",
            "progress: epoch: 29 loss tensor(nan)\n",
            "progress: epoch: 30 loss tensor(nan)\n",
            "progress: epoch: 31 loss tensor(nan)\n",
            "progress: epoch: 32 loss tensor(nan)\n",
            "progress: epoch: 33 loss tensor(nan)\n",
            "progress: epoch: 34 loss tensor(nan)\n",
            "progress: epoch: 35 loss tensor(nan)\n",
            "progress: epoch: 36 loss tensor(nan)\n",
            "progress: epoch: 37 loss tensor(nan)\n",
            "progress: epoch: 38 loss tensor(nan)\n",
            "progress: epoch: 39 loss tensor(nan)\n",
            "progress: epoch: 40 loss tensor(nan)\n",
            "progress: epoch: 41 loss tensor(nan)\n",
            "progress: epoch: 42 loss tensor(nan)\n",
            "progress: epoch: 43 loss tensor(nan)\n",
            "progress: epoch: 44 loss tensor(nan)\n",
            "progress: epoch: 45 loss tensor(nan)\n",
            "progress: epoch: 46 loss tensor(nan)\n",
            "progress: epoch: 47 loss tensor(nan)\n",
            "progress: epoch: 48 loss tensor(nan)\n",
            "progress: epoch: 49 loss tensor(nan)\n",
            "progress: epoch: 50 loss tensor(nan)\n",
            "progress: epoch: 51 loss tensor(nan)\n",
            "progress: epoch: 52 loss tensor(nan)\n",
            "progress: epoch: 53 loss tensor(nan)\n",
            "progress: epoch: 54 loss tensor(nan)\n",
            "progress: epoch: 55 loss tensor(nan)\n",
            "progress: epoch: 56 loss tensor(nan)\n",
            "progress: epoch: 57 loss tensor(nan)\n",
            "progress: epoch: 58 loss tensor(nan)\n",
            "progress: epoch: 59 loss tensor(nan)\n",
            "progress: epoch: 60 loss tensor(nan)\n",
            "progress: epoch: 61 loss tensor(nan)\n",
            "progress: epoch: 62 loss tensor(nan)\n",
            "progress: epoch: 63 loss tensor(nan)\n",
            "progress: epoch: 64 loss tensor(nan)\n",
            "progress: epoch: 65 loss tensor(nan)\n",
            "progress: epoch: 66 loss tensor(nan)\n",
            "progress: epoch: 67 loss tensor(nan)\n",
            "progress: epoch: 68 loss tensor(nan)\n",
            "progress: epoch: 69 loss tensor(nan)\n",
            "progress: epoch: 70 loss tensor(nan)\n",
            "progress: epoch: 71 loss tensor(nan)\n",
            "progress: epoch: 72 loss tensor(nan)\n",
            "progress: epoch: 73 loss tensor(nan)\n",
            "progress: epoch: 74 loss tensor(nan)\n",
            "progress: epoch: 75 loss tensor(nan)\n",
            "progress: epoch: 76 loss tensor(nan)\n",
            "progress: epoch: 77 loss tensor(nan)\n",
            "progress: epoch: 78 loss tensor(nan)\n",
            "progress: epoch: 79 loss tensor(nan)\n",
            "progress: epoch: 80 loss tensor(nan)\n",
            "progress: epoch: 81 loss tensor(nan)\n",
            "progress: epoch: 82 loss tensor(nan)\n",
            "progress: epoch: 83 loss tensor(nan)\n",
            "progress: epoch: 84 loss tensor(nan)\n",
            "progress: epoch: 85 loss tensor(nan)\n",
            "progress: epoch: 86 loss tensor(nan)\n",
            "progress: epoch: 87 loss tensor(nan)\n",
            "progress: epoch: 88 loss tensor(nan)\n",
            "progress: epoch: 89 loss tensor(nan)\n",
            "progress: epoch: 90 loss tensor(nan)\n",
            "progress: epoch: 91 loss tensor(nan)\n",
            "progress: epoch: 92 loss tensor(nan)\n",
            "progress: epoch: 93 loss tensor(nan)\n",
            "progress: epoch: 94 loss tensor(nan)\n",
            "progress: epoch: 95 loss tensor(nan)\n",
            "progress: epoch: 96 loss tensor(nan)\n",
            "progress: epoch: 97 loss tensor(nan)\n",
            "progress: epoch: 98 loss tensor(nan)\n",
            "progress: epoch: 99 loss tensor(nan)\n",
            "progress: epoch: 100 loss tensor(nan)\n",
            "progress: epoch: 101 loss tensor(nan)\n",
            "progress: epoch: 102 loss tensor(nan)\n",
            "progress: epoch: 103 loss tensor(nan)\n",
            "progress: epoch: 104 loss tensor(nan)\n",
            "progress: epoch: 105 loss tensor(nan)\n",
            "progress: epoch: 106 loss tensor(nan)\n",
            "progress: epoch: 107 loss tensor(nan)\n",
            "progress: epoch: 108 loss tensor(nan)\n",
            "progress: epoch: 109 loss tensor(nan)\n",
            "progress: epoch: 110 loss tensor(nan)\n",
            "progress: epoch: 111 loss tensor(nan)\n",
            "progress: epoch: 112 loss tensor(nan)\n",
            "progress: epoch: 113 loss tensor(nan)\n",
            "progress: epoch: 114 loss tensor(nan)\n",
            "progress: epoch: 115 loss tensor(nan)\n",
            "progress: epoch: 116 loss tensor(nan)\n",
            "progress: epoch: 117 loss tensor(nan)\n",
            "progress: epoch: 118 loss tensor(nan)\n",
            "progress: epoch: 119 loss tensor(nan)\n",
            "progress: epoch: 120 loss tensor(nan)\n",
            "progress: epoch: 121 loss tensor(nan)\n",
            "progress: epoch: 122 loss tensor(nan)\n",
            "progress: epoch: 123 loss tensor(nan)\n",
            "progress: epoch: 124 loss tensor(nan)\n",
            "progress: epoch: 125 loss tensor(nan)\n",
            "progress: epoch: 126 loss tensor(nan)\n",
            "progress: epoch: 127 loss tensor(nan)\n",
            "progress: epoch: 128 loss tensor(nan)\n",
            "progress: epoch: 129 loss tensor(nan)\n",
            "progress: epoch: 130 loss tensor(nan)\n",
            "progress: epoch: 131 loss tensor(nan)\n",
            "progress: epoch: 132 loss tensor(nan)\n",
            "progress: epoch: 133 loss tensor(nan)\n",
            "progress: epoch: 134 loss tensor(nan)\n",
            "progress: epoch: 135 loss tensor(nan)\n",
            "progress: epoch: 136 loss tensor(nan)\n",
            "progress: epoch: 137 loss tensor(nan)\n",
            "progress: epoch: 138 loss tensor(nan)\n",
            "progress: epoch: 139 loss tensor(nan)\n",
            "progress: epoch: 140 loss tensor(nan)\n",
            "progress: epoch: 141 loss tensor(nan)\n",
            "progress: epoch: 142 loss tensor(nan)\n",
            "progress: epoch: 143 loss tensor(nan)\n",
            "progress: epoch: 144 loss tensor(nan)\n",
            "progress: epoch: 145 loss tensor(nan)\n",
            "progress: epoch: 146 loss tensor(nan)\n",
            "progress: epoch: 147 loss tensor(nan)\n",
            "progress: epoch: 148 loss tensor(nan)\n",
            "progress: epoch: 149 loss tensor(nan)\n",
            "progress: epoch: 150 loss tensor(nan)\n",
            "progress: epoch: 151 loss tensor(nan)\n",
            "progress: epoch: 152 loss tensor(nan)\n",
            "progress: epoch: 153 loss tensor(nan)\n",
            "progress: epoch: 154 loss tensor(nan)\n",
            "progress: epoch: 155 loss tensor(nan)\n",
            "progress: epoch: 156 loss tensor(nan)\n",
            "progress: epoch: 157 loss tensor(nan)\n",
            "progress: epoch: 158 loss tensor(nan)\n",
            "progress: epoch: 159 loss tensor(nan)\n",
            "progress: epoch: 160 loss tensor(nan)\n",
            "progress: epoch: 161 loss tensor(nan)\n",
            "progress: epoch: 162 loss tensor(nan)\n",
            "progress: epoch: 163 loss tensor(nan)\n",
            "progress: epoch: 164 loss tensor(nan)\n",
            "progress: epoch: 165 loss tensor(nan)\n",
            "progress: epoch: 166 loss tensor(nan)\n",
            "progress: epoch: 167 loss tensor(nan)\n",
            "progress: epoch: 168 loss tensor(nan)\n",
            "progress: epoch: 169 loss tensor(nan)\n",
            "progress: epoch: 170 loss tensor(nan)\n",
            "progress: epoch: 171 loss tensor(nan)\n",
            "progress: epoch: 172 loss tensor(nan)\n",
            "progress: epoch: 173 loss tensor(nan)\n",
            "progress: epoch: 174 loss tensor(nan)\n",
            "progress: epoch: 175 loss tensor(nan)\n",
            "progress: epoch: 176 loss tensor(nan)\n",
            "progress: epoch: 177 loss tensor(nan)\n",
            "progress: epoch: 178 loss tensor(nan)\n",
            "progress: epoch: 179 loss tensor(nan)\n",
            "progress: epoch: 180 loss tensor(nan)\n",
            "progress: epoch: 181 loss tensor(nan)\n",
            "progress: epoch: 182 loss tensor(nan)\n",
            "progress: epoch: 183 loss tensor(nan)\n",
            "progress: epoch: 184 loss tensor(nan)\n",
            "progress: epoch: 185 loss tensor(nan)\n",
            "progress: epoch: 186 loss tensor(nan)\n",
            "progress: epoch: 187 loss tensor(nan)\n",
            "progress: epoch: 188 loss tensor(nan)\n",
            "progress: epoch: 189 loss tensor(nan)\n",
            "progress: epoch: 190 loss tensor(nan)\n",
            "progress: epoch: 191 loss tensor(nan)\n",
            "progress: epoch: 192 loss tensor(nan)\n",
            "progress: epoch: 193 loss tensor(nan)\n",
            "progress: epoch: 194 loss tensor(nan)\n",
            "progress: epoch: 195 loss tensor(nan)\n",
            "progress: epoch: 196 loss tensor(nan)\n",
            "progress: epoch: 197 loss tensor(nan)\n",
            "progress: epoch: 198 loss tensor(nan)\n",
            "progress: epoch: 199 loss tensor(nan)\n"
          ],
          "name": "stdout"
        }
      ]
    },
    {
      "cell_type": "code",
      "metadata": {
        "colab": {
          "base_uri": "https://localhost:8080/"
        },
        "id": "UicwAxxETDt3",
        "outputId": "05f19f1f-33ef-4682-d6ab-291e3b58e1fe"
      },
      "source": [
        "# After training with higher learning rate\n",
        "print(\"Estimation of the parameters:\")\n",
        "print(w_t)\n",
        "print(b_t)"
      ],
      "execution_count": 23,
      "outputs": [
        {
          "output_type": "stream",
          "text": [
            "Estimation of the parameters:\n",
            "tensor([[nan],\n",
            "        [nan]])\n",
            "tensor([[nan]])\n"
          ],
          "name": "stdout"
        }
      ]
    },
    {
      "cell_type": "markdown",
      "metadata": {
        "id": "682acKeSRNvl"
      },
      "source": [
        "With higher learning rate, we observe higher loss of data tending to infinity as the epoch increases. At the end, we have no data as an output."
      ]
    },
    {
      "cell_type": "markdown",
      "metadata": {
        "id": "gqWJFYZSTX_m"
      },
      "source": [
        "### Question: How to improve the quality of the estimate?"
      ]
    },
    {
      "cell_type": "markdown",
      "metadata": {
        "id": "t8jPZsr7R-aV"
      },
      "source": [
        "The quality can be increased with a varying learning rate at each epoch to control the loss of data.\n",
        "Another way is to keep learning rate small enough and increasing the number of epochs such that the predicted output tends to the actual value with minimal loss."
      ]
    }
  ]
}
